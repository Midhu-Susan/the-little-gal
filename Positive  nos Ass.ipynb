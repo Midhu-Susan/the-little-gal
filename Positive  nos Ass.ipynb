{
 "cells": [
  {
   "cell_type": "code",
   "execution_count": 13,
   "metadata": {},
   "outputs": [
    {
     "name": "stdout",
     "output_type": "stream",
     "text": [
      "Input:List1= [12, -7, 5, 64, -14]\n",
      "output [12, 5, 64]\n",
      "Input:List2= [12, 14, -95, 3]\n",
      "output [12, 14, -95, 3]\n"
     ]
    }
   ],
   "source": [
    "input =[12,-7,5,64,-14]\n",
    "print (\"Input:List1=\",input)\n",
    "enum=[]\n",
    "for i in input :\n",
    "    if i > 0:\n",
    "        enum.append(i)\n",
    "print(\"output\",enum)\n",
    "# second set\n",
    "#break\n",
    "input = [12,14,-95,3]\n",
    "print (\"Input:List2=\",input)\n",
    "posnum=[]\n",
    "for i in input :\n",
    "    posnum.append(i)\n",
    "\n",
    "print (\"output\",posnum)\n",
    "\n",
    "\n",
    "            \n",
    "    "
   ]
  },
  {
   "cell_type": "code",
   "execution_count": null,
   "metadata": {},
   "outputs": [],
   "source": []
  },
  {
   "cell_type": "code",
   "execution_count": null,
   "metadata": {},
   "outputs": [],
   "source": []
  },
  {
   "cell_type": "code",
   "execution_count": null,
   "metadata": {},
   "outputs": [],
   "source": []
  },
  {
   "cell_type": "code",
   "execution_count": null,
   "metadata": {},
   "outputs": [],
   "source": []
  },
  {
   "cell_type": "code",
   "execution_count": null,
   "metadata": {},
   "outputs": [],
   "source": []
  },
  {
   "cell_type": "code",
   "execution_count": null,
   "metadata": {},
   "outputs": [],
   "source": []
  }
 ],
 "metadata": {
  "kernelspec": {
   "display_name": "Python 3",
   "language": "python",
   "name": "python3"
  },
  "language_info": {
   "codemirror_mode": {
    "name": "ipython",
    "version": 3
   },
   "file_extension": ".py",
   "mimetype": "text/x-python",
   "name": "python",
   "nbconvert_exporter": "python",
   "pygments_lexer": "ipython3",
   "version": "3.7.6"
  }
 },
 "nbformat": 4,
 "nbformat_minor": 4
}
